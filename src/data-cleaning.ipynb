{
 "cells": [
  {
   "cell_type": "markdown",
   "metadata": {
    "collapsed": true,
    "pycharm": {
     "name": "#%% md\n"
    }
   },
   "source": [
    "Contenido repositorio:\n",
    "\n",
    "- readme\n",
    "- pdf con las preguntas\n",
    "- carpeta con el codigo\n",
    "- csv original\n",
    "- csv procesado\n",
    "- requirements.txt"
   ]
  },
  {
   "cell_type": "code",
   "execution_count": 104,
   "outputs": [],
   "source": [
    "# Importing libraries\n",
    "import numpy as np\n",
    "import pandas as pd"
   ],
   "metadata": {
    "collapsed": false,
    "pycharm": {
     "name": "#%%\n"
    }
   }
  },
  {
   "cell_type": "code",
   "execution_count": 105,
   "outputs": [
    {
     "name": "stderr",
     "output_type": "stream",
     "text": [
      "/var/folders/9g/nhhs7njd4vb6nf0cblb1_bwm0000gn/T/ipykernel_32857/1014209278.py:1: DtypeWarning: Columns (13) have mixed types. Specify dtype option on import or set low_memory=False.\n",
      "  df = pd.read_csv('../dataset_original.csv')\n"
     ]
    },
    {
     "data": {
      "text/plain": "                                            id cardExists  \\\n0                            bert-base-uncased       True   \n1                                         gpt2       True   \n2                             xlm-roberta-base       True   \n3                openai/clip-vit-large-patch14       True   \n4                              allenai/specter       True   \n...                                        ...        ...   \n89914                          Ursabdop/kutkut        NaN   \n89915  huggingtweets/paulcamuso-williamshatner       True   \n89916                             shizuuya/ork        NaN   \n89917                 huggingtweets/paulcamuso       True   \n89918                  Elaine/m2m100_pruned_ms        NaN   \n\n                   lastModified  likes                        pipeline_tag  \\\n0      2022-11-16T15:15:39.000Z    337                       ['fill-mask']   \n1      2022-11-18T18:19:30.000Z    309                 ['text-generation']   \n2      2022-11-16T15:16:18.000Z    111                       ['fill-mask']   \n3      2022-10-04T09:41:01.000Z     74  ['zero-shot-image-classification']   \n4      2022-06-25T16:04:29.000Z     25              ['feature-extraction']   \n...                         ...    ...                                 ...   \n89914  2022-11-20T18:05:15.000Z      0                                 NaN   \n89915  2022-11-20T18:21:00.000Z      0                 ['text-generation']   \n89916  2022-11-20T18:27:10.000Z      0                                 NaN   \n89917  2022-11-20T18:29:34.000Z      0                 ['text-generation']   \n89918  2022-11-21T10:34:55.000Z      0            ['text2text-generation']   \n\n          subType                                            library  \\\n0             nlp  ['pytorch', 'tf', 'jax', 'rust', 'safetensors'...   \n1             nlp  ['pytorch', 'tf', 'jax', 'tflite', 'rust', 'sa...   \n2             nlp  ['pytorch', 'tf', 'jax', 'safetensors', 'trans...   \n3              cv           ['pytorch', 'tf', 'jax', 'transformers']   \n4      multimodal           ['pytorch', 'tf', 'jax', 'transformers']   \n...           ...                                                ...   \n89914         NaN                                                NaN   \n89915         nlp                        ['pytorch', 'transformers']   \n89916         NaN                                                NaN   \n89917         nlp                        ['pytorch', 'transformers']   \n89918         nlp                        ['pytorch', 'transformers']   \n\n                                           dataset  \\\n0      ['dataset:bookcorpus', 'dataset:wikipedia']   \n1                                              NaN   \n2                                              NaN   \n3                                              NaN   \n4                              ['dataset:SciDocs']   \n...                                            ...   \n89914                                          NaN   \n89915                                          NaN   \n89916                                          NaN   \n89917                                          NaN   \n89918                                          NaN   \n\n                                                language  \\\n0                                                 ['en']   \n1                                                 ['en']   \n2      ['multilingual', 'af', 'am', 'ar', 'as', 'az',...   \n3                                                    NaN   \n4                                                 ['en']   \n...                                                  ...   \n89914                                                NaN   \n89915                                             ['en']   \n89916                                                NaN   \n89917                                             ['en']   \n89918                                                NaN   \n\n                                          arxiv  \\\n0                          ['arxiv:1810.04805']   \n1                                           NaN   \n2                          ['arxiv:1911.02116']   \n3      ['arxiv:2103.00020', 'arxiv:1908.04913']   \n4                          ['arxiv:2004.07180']   \n...                                         ...   \n89914                                       NaN   \n89915                                       NaN   \n89916                                       NaN   \n89917                                       NaN   \n89918                                       NaN   \n\n                                                   other  \\\n0      ['bert', 'exbert', 'autotrain_compatible', 'ha...   \n1                        ['gpt2', 'exbert', 'has_space']   \n2      ['xlm-roberta', 'exbert', 'autotrain_compatibl...   \n3                        ['clip', 'vision', 'has_space']   \n4                                  ['bert', 'has_space']   \n...                                                  ...   \n89914                                                NaN   \n89915                          ['gpt2', 'huggingtweets']   \n89916                                                NaN   \n89917                          ['gpt2', 'huggingtweets']   \n89918                ['m2m_100', 'autotrain_compatible']   \n\n                      license  downloads_last_month                       doi  \\\n0      ['license:apache-2.0']              24813000                       NaN   \n1             ['license:mit']              20506403  ['doi:10.57967/hf/0039']   \n2             ['license:mit']               9501981                       NaN   \n3                         NaN               8593667                       NaN   \n4      ['license:apache-2.0']               8004968                       NaN   \n...                       ...                   ...                       ...   \n89914                     NaN                     0                       NaN   \n89915                     NaN                     0                       NaN   \n89916                     NaN                     0                       NaN   \n89917                     NaN                     3                       NaN   \n89918                     NaN                     2                       NaN   \n\n              author  \n0                NaN  \n1                NaN  \n2                NaN  \n3             openai  \n4            allenai  \n...              ...  \n89914       Ursabdop  \n89915  huggingtweets  \n89916       shizuuya  \n89917  huggingtweets  \n89918         Elaine  \n\n[89919 rows x 15 columns]",
      "text/html": "<div>\n<style scoped>\n    .dataframe tbody tr th:only-of-type {\n        vertical-align: middle;\n    }\n\n    .dataframe tbody tr th {\n        vertical-align: top;\n    }\n\n    .dataframe thead th {\n        text-align: right;\n    }\n</style>\n<table border=\"1\" class=\"dataframe\">\n  <thead>\n    <tr style=\"text-align: right;\">\n      <th></th>\n      <th>id</th>\n      <th>cardExists</th>\n      <th>lastModified</th>\n      <th>likes</th>\n      <th>pipeline_tag</th>\n      <th>subType</th>\n      <th>library</th>\n      <th>dataset</th>\n      <th>language</th>\n      <th>arxiv</th>\n      <th>other</th>\n      <th>license</th>\n      <th>downloads_last_month</th>\n      <th>doi</th>\n      <th>author</th>\n    </tr>\n  </thead>\n  <tbody>\n    <tr>\n      <th>0</th>\n      <td>bert-base-uncased</td>\n      <td>True</td>\n      <td>2022-11-16T15:15:39.000Z</td>\n      <td>337</td>\n      <td>['fill-mask']</td>\n      <td>nlp</td>\n      <td>['pytorch', 'tf', 'jax', 'rust', 'safetensors'...</td>\n      <td>['dataset:bookcorpus', 'dataset:wikipedia']</td>\n      <td>['en']</td>\n      <td>['arxiv:1810.04805']</td>\n      <td>['bert', 'exbert', 'autotrain_compatible', 'ha...</td>\n      <td>['license:apache-2.0']</td>\n      <td>24813000</td>\n      <td>NaN</td>\n      <td>NaN</td>\n    </tr>\n    <tr>\n      <th>1</th>\n      <td>gpt2</td>\n      <td>True</td>\n      <td>2022-11-18T18:19:30.000Z</td>\n      <td>309</td>\n      <td>['text-generation']</td>\n      <td>nlp</td>\n      <td>['pytorch', 'tf', 'jax', 'tflite', 'rust', 'sa...</td>\n      <td>NaN</td>\n      <td>['en']</td>\n      <td>NaN</td>\n      <td>['gpt2', 'exbert', 'has_space']</td>\n      <td>['license:mit']</td>\n      <td>20506403</td>\n      <td>['doi:10.57967/hf/0039']</td>\n      <td>NaN</td>\n    </tr>\n    <tr>\n      <th>2</th>\n      <td>xlm-roberta-base</td>\n      <td>True</td>\n      <td>2022-11-16T15:16:18.000Z</td>\n      <td>111</td>\n      <td>['fill-mask']</td>\n      <td>nlp</td>\n      <td>['pytorch', 'tf', 'jax', 'safetensors', 'trans...</td>\n      <td>NaN</td>\n      <td>['multilingual', 'af', 'am', 'ar', 'as', 'az',...</td>\n      <td>['arxiv:1911.02116']</td>\n      <td>['xlm-roberta', 'exbert', 'autotrain_compatibl...</td>\n      <td>['license:mit']</td>\n      <td>9501981</td>\n      <td>NaN</td>\n      <td>NaN</td>\n    </tr>\n    <tr>\n      <th>3</th>\n      <td>openai/clip-vit-large-patch14</td>\n      <td>True</td>\n      <td>2022-10-04T09:41:01.000Z</td>\n      <td>74</td>\n      <td>['zero-shot-image-classification']</td>\n      <td>cv</td>\n      <td>['pytorch', 'tf', 'jax', 'transformers']</td>\n      <td>NaN</td>\n      <td>NaN</td>\n      <td>['arxiv:2103.00020', 'arxiv:1908.04913']</td>\n      <td>['clip', 'vision', 'has_space']</td>\n      <td>NaN</td>\n      <td>8593667</td>\n      <td>NaN</td>\n      <td>openai</td>\n    </tr>\n    <tr>\n      <th>4</th>\n      <td>allenai/specter</td>\n      <td>True</td>\n      <td>2022-06-25T16:04:29.000Z</td>\n      <td>25</td>\n      <td>['feature-extraction']</td>\n      <td>multimodal</td>\n      <td>['pytorch', 'tf', 'jax', 'transformers']</td>\n      <td>['dataset:SciDocs']</td>\n      <td>['en']</td>\n      <td>['arxiv:2004.07180']</td>\n      <td>['bert', 'has_space']</td>\n      <td>['license:apache-2.0']</td>\n      <td>8004968</td>\n      <td>NaN</td>\n      <td>allenai</td>\n    </tr>\n    <tr>\n      <th>...</th>\n      <td>...</td>\n      <td>...</td>\n      <td>...</td>\n      <td>...</td>\n      <td>...</td>\n      <td>...</td>\n      <td>...</td>\n      <td>...</td>\n      <td>...</td>\n      <td>...</td>\n      <td>...</td>\n      <td>...</td>\n      <td>...</td>\n      <td>...</td>\n      <td>...</td>\n    </tr>\n    <tr>\n      <th>89914</th>\n      <td>Ursabdop/kutkut</td>\n      <td>NaN</td>\n      <td>2022-11-20T18:05:15.000Z</td>\n      <td>0</td>\n      <td>NaN</td>\n      <td>NaN</td>\n      <td>NaN</td>\n      <td>NaN</td>\n      <td>NaN</td>\n      <td>NaN</td>\n      <td>NaN</td>\n      <td>NaN</td>\n      <td>0</td>\n      <td>NaN</td>\n      <td>Ursabdop</td>\n    </tr>\n    <tr>\n      <th>89915</th>\n      <td>huggingtweets/paulcamuso-williamshatner</td>\n      <td>True</td>\n      <td>2022-11-20T18:21:00.000Z</td>\n      <td>0</td>\n      <td>['text-generation']</td>\n      <td>nlp</td>\n      <td>['pytorch', 'transformers']</td>\n      <td>NaN</td>\n      <td>['en']</td>\n      <td>NaN</td>\n      <td>['gpt2', 'huggingtweets']</td>\n      <td>NaN</td>\n      <td>0</td>\n      <td>NaN</td>\n      <td>huggingtweets</td>\n    </tr>\n    <tr>\n      <th>89916</th>\n      <td>shizuuya/ork</td>\n      <td>NaN</td>\n      <td>2022-11-20T18:27:10.000Z</td>\n      <td>0</td>\n      <td>NaN</td>\n      <td>NaN</td>\n      <td>NaN</td>\n      <td>NaN</td>\n      <td>NaN</td>\n      <td>NaN</td>\n      <td>NaN</td>\n      <td>NaN</td>\n      <td>0</td>\n      <td>NaN</td>\n      <td>shizuuya</td>\n    </tr>\n    <tr>\n      <th>89917</th>\n      <td>huggingtweets/paulcamuso</td>\n      <td>True</td>\n      <td>2022-11-20T18:29:34.000Z</td>\n      <td>0</td>\n      <td>['text-generation']</td>\n      <td>nlp</td>\n      <td>['pytorch', 'transformers']</td>\n      <td>NaN</td>\n      <td>['en']</td>\n      <td>NaN</td>\n      <td>['gpt2', 'huggingtweets']</td>\n      <td>NaN</td>\n      <td>3</td>\n      <td>NaN</td>\n      <td>huggingtweets</td>\n    </tr>\n    <tr>\n      <th>89918</th>\n      <td>Elaine/m2m100_pruned_ms</td>\n      <td>NaN</td>\n      <td>2022-11-21T10:34:55.000Z</td>\n      <td>0</td>\n      <td>['text2text-generation']</td>\n      <td>nlp</td>\n      <td>['pytorch', 'transformers']</td>\n      <td>NaN</td>\n      <td>NaN</td>\n      <td>NaN</td>\n      <td>['m2m_100', 'autotrain_compatible']</td>\n      <td>NaN</td>\n      <td>2</td>\n      <td>NaN</td>\n      <td>Elaine</td>\n    </tr>\n  </tbody>\n</table>\n<p>89919 rows × 15 columns</p>\n</div>"
     },
     "execution_count": 105,
     "metadata": {},
     "output_type": "execute_result"
    }
   ],
   "source": [
    "df = pd.read_csv('../dataset_original.csv')\n",
    "df"
   ],
   "metadata": {
    "collapsed": false,
    "pycharm": {
     "name": "#%%\n"
    }
   }
  },
  {
   "cell_type": "code",
   "execution_count": 106,
   "outputs": [
    {
     "name": "stdout",
     "output_type": "stream",
     "text": [
      "<class 'pandas.core.frame.DataFrame'>\n",
      "RangeIndex: 89919 entries, 0 to 89918\n",
      "Data columns (total 15 columns):\n",
      " #   Column                Non-Null Count  Dtype \n",
      "---  ------                --------------  ----- \n",
      " 0   id                    89919 non-null  object\n",
      " 1   cardExists            41102 non-null  object\n",
      " 2   lastModified          89919 non-null  object\n",
      " 3   likes                 89919 non-null  int64 \n",
      " 4   pipeline_tag          53472 non-null  object\n",
      " 5   subType               53472 non-null  object\n",
      " 6   library               59490 non-null  object\n",
      " 7   dataset               14585 non-null  object\n",
      " 8   language              18069 non-null  object\n",
      " 9   arxiv                 5198 non-null   object\n",
      " 10  other                 56983 non-null  object\n",
      " 11  license               22377 non-null  object\n",
      " 12  downloads_last_month  89919 non-null  int64 \n",
      " 13  doi                   55 non-null     object\n",
      " 14  author                89851 non-null  object\n",
      "dtypes: int64(2), object(13)\n",
      "memory usage: 10.3+ MB\n"
     ]
    }
   ],
   "source": [
    "df.info()"
   ],
   "metadata": {
    "collapsed": false,
    "pycharm": {
     "name": "#%%\n"
    }
   }
  },
  {
   "cell_type": "code",
   "execution_count": 107,
   "outputs": [
    {
     "data": {
      "text/plain": "array([ True, False])"
     },
     "execution_count": 107,
     "metadata": {},
     "output_type": "execute_result"
    }
   ],
   "source": [
    "# Replace null values in 'cardExists' by default boolean\n",
    "\n",
    "df['cardExists'] = df['cardExists'].replace(np.NAN, False)\n",
    "df['cardExists'].unique()"
   ],
   "metadata": {
    "collapsed": false,
    "pycharm": {
     "name": "#%%\n"
    }
   }
  },
  {
   "cell_type": "code",
   "execution_count": 108,
   "outputs": [
    {
     "data": {
      "text/plain": "                                            id  cardExists  \\\n0                            bert-base-uncased        True   \n1                                         gpt2        True   \n2                             xlm-roberta-base        True   \n3                openai/clip-vit-large-patch14        True   \n4                              allenai/specter        True   \n...                                        ...         ...   \n89914                          Ursabdop/kutkut       False   \n89915  huggingtweets/paulcamuso-williamshatner        True   \n89916                             shizuuya/ork       False   \n89917                 huggingtweets/paulcamuso        True   \n89918                  Elaine/m2m100_pruned_ms       False   \n\n                   lastModified  likes                        pipeline_tag  \\\n0      2022-11-16T15:15:39.000Z    337                       ['fill-mask']   \n1      2022-11-18T18:19:30.000Z    309                 ['text-generation']   \n2      2022-11-16T15:16:18.000Z    111                       ['fill-mask']   \n3      2022-10-04T09:41:01.000Z     74  ['zero-shot-image-classification']   \n4      2022-06-25T16:04:29.000Z     25              ['feature-extraction']   \n...                         ...    ...                                 ...   \n89914  2022-11-20T18:05:15.000Z      0                                 NaN   \n89915  2022-11-20T18:21:00.000Z      0                 ['text-generation']   \n89916  2022-11-20T18:27:10.000Z      0                                 NaN   \n89917  2022-11-20T18:29:34.000Z      0                 ['text-generation']   \n89918  2022-11-21T10:34:55.000Z      0            ['text2text-generation']   \n\n          subType                                            library  \\\n0             nlp  ['pytorch', 'tf', 'jax', 'rust', 'safetensors'...   \n1             nlp  ['pytorch', 'tf', 'jax', 'tflite', 'rust', 'sa...   \n2             nlp  ['pytorch', 'tf', 'jax', 'safetensors', 'trans...   \n3              cv           ['pytorch', 'tf', 'jax', 'transformers']   \n4      multimodal           ['pytorch', 'tf', 'jax', 'transformers']   \n...           ...                                                ...   \n89914         NaN                                                NaN   \n89915         nlp                        ['pytorch', 'transformers']   \n89916         NaN                                                NaN   \n89917         nlp                        ['pytorch', 'transformers']   \n89918         nlp                        ['pytorch', 'transformers']   \n\n                                           dataset  \\\n0      ['dataset:bookcorpus', 'dataset:wikipedia']   \n1                                              NaN   \n2                                              NaN   \n3                                              NaN   \n4                              ['dataset:SciDocs']   \n...                                            ...   \n89914                                          NaN   \n89915                                          NaN   \n89916                                          NaN   \n89917                                          NaN   \n89918                                          NaN   \n\n                                                language  \\\n0                                                 ['en']   \n1                                                 ['en']   \n2      ['multilingual', 'af', 'am', 'ar', 'as', 'az',...   \n3                                                    NaN   \n4                                                 ['en']   \n...                                                  ...   \n89914                                                NaN   \n89915                                             ['en']   \n89916                                                NaN   \n89917                                             ['en']   \n89918                                                NaN   \n\n                                          arxiv  \\\n0                          ['arxiv:1810.04805']   \n1                                           NaN   \n2                          ['arxiv:1911.02116']   \n3      ['arxiv:2103.00020', 'arxiv:1908.04913']   \n4                          ['arxiv:2004.07180']   \n...                                         ...   \n89914                                       NaN   \n89915                                       NaN   \n89916                                       NaN   \n89917                                       NaN   \n89918                                       NaN   \n\n                                                   other  \\\n0      ['bert', 'exbert', 'autotrain_compatible', 'ha...   \n1                        ['gpt2', 'exbert', 'has_space']   \n2      ['xlm-roberta', 'exbert', 'autotrain_compatibl...   \n3                        ['clip', 'vision', 'has_space']   \n4                                  ['bert', 'has_space']   \n...                                                  ...   \n89914                                                NaN   \n89915                          ['gpt2', 'huggingtweets']   \n89916                                                NaN   \n89917                          ['gpt2', 'huggingtweets']   \n89918                ['m2m_100', 'autotrain_compatible']   \n\n                      license  downloads_last_month                       doi  \\\n0      ['license:apache-2.0']              24813000                       NaN   \n1             ['license:mit']              20506403  ['doi:10.57967/hf/0039']   \n2             ['license:mit']               9501981                       NaN   \n3                         NaN               8593667                       NaN   \n4      ['license:apache-2.0']               8004968                       NaN   \n...                       ...                   ...                       ...   \n89914                     NaN                     0                       NaN   \n89915                     NaN                     0                       NaN   \n89916                     NaN                     0                       NaN   \n89917                     NaN                     3                       NaN   \n89918                     NaN                     2                       NaN   \n\n              author  year  month  day  \n0                NaN  2022     11   16  \n1                NaN  2022     11   18  \n2                NaN  2022     11   16  \n3             openai  2022     10    4  \n4            allenai  2022      6   25  \n...              ...   ...    ...  ...  \n89914       Ursabdop  2022     11   20  \n89915  huggingtweets  2022     11   20  \n89916       shizuuya  2022     11   20  \n89917  huggingtweets  2022     11   20  \n89918         Elaine  2022     11   21  \n\n[89919 rows x 18 columns]",
      "text/html": "<div>\n<style scoped>\n    .dataframe tbody tr th:only-of-type {\n        vertical-align: middle;\n    }\n\n    .dataframe tbody tr th {\n        vertical-align: top;\n    }\n\n    .dataframe thead th {\n        text-align: right;\n    }\n</style>\n<table border=\"1\" class=\"dataframe\">\n  <thead>\n    <tr style=\"text-align: right;\">\n      <th></th>\n      <th>id</th>\n      <th>cardExists</th>\n      <th>lastModified</th>\n      <th>likes</th>\n      <th>pipeline_tag</th>\n      <th>subType</th>\n      <th>library</th>\n      <th>dataset</th>\n      <th>language</th>\n      <th>arxiv</th>\n      <th>other</th>\n      <th>license</th>\n      <th>downloads_last_month</th>\n      <th>doi</th>\n      <th>author</th>\n      <th>year</th>\n      <th>month</th>\n      <th>day</th>\n    </tr>\n  </thead>\n  <tbody>\n    <tr>\n      <th>0</th>\n      <td>bert-base-uncased</td>\n      <td>True</td>\n      <td>2022-11-16T15:15:39.000Z</td>\n      <td>337</td>\n      <td>['fill-mask']</td>\n      <td>nlp</td>\n      <td>['pytorch', 'tf', 'jax', 'rust', 'safetensors'...</td>\n      <td>['dataset:bookcorpus', 'dataset:wikipedia']</td>\n      <td>['en']</td>\n      <td>['arxiv:1810.04805']</td>\n      <td>['bert', 'exbert', 'autotrain_compatible', 'ha...</td>\n      <td>['license:apache-2.0']</td>\n      <td>24813000</td>\n      <td>NaN</td>\n      <td>NaN</td>\n      <td>2022</td>\n      <td>11</td>\n      <td>16</td>\n    </tr>\n    <tr>\n      <th>1</th>\n      <td>gpt2</td>\n      <td>True</td>\n      <td>2022-11-18T18:19:30.000Z</td>\n      <td>309</td>\n      <td>['text-generation']</td>\n      <td>nlp</td>\n      <td>['pytorch', 'tf', 'jax', 'tflite', 'rust', 'sa...</td>\n      <td>NaN</td>\n      <td>['en']</td>\n      <td>NaN</td>\n      <td>['gpt2', 'exbert', 'has_space']</td>\n      <td>['license:mit']</td>\n      <td>20506403</td>\n      <td>['doi:10.57967/hf/0039']</td>\n      <td>NaN</td>\n      <td>2022</td>\n      <td>11</td>\n      <td>18</td>\n    </tr>\n    <tr>\n      <th>2</th>\n      <td>xlm-roberta-base</td>\n      <td>True</td>\n      <td>2022-11-16T15:16:18.000Z</td>\n      <td>111</td>\n      <td>['fill-mask']</td>\n      <td>nlp</td>\n      <td>['pytorch', 'tf', 'jax', 'safetensors', 'trans...</td>\n      <td>NaN</td>\n      <td>['multilingual', 'af', 'am', 'ar', 'as', 'az',...</td>\n      <td>['arxiv:1911.02116']</td>\n      <td>['xlm-roberta', 'exbert', 'autotrain_compatibl...</td>\n      <td>['license:mit']</td>\n      <td>9501981</td>\n      <td>NaN</td>\n      <td>NaN</td>\n      <td>2022</td>\n      <td>11</td>\n      <td>16</td>\n    </tr>\n    <tr>\n      <th>3</th>\n      <td>openai/clip-vit-large-patch14</td>\n      <td>True</td>\n      <td>2022-10-04T09:41:01.000Z</td>\n      <td>74</td>\n      <td>['zero-shot-image-classification']</td>\n      <td>cv</td>\n      <td>['pytorch', 'tf', 'jax', 'transformers']</td>\n      <td>NaN</td>\n      <td>NaN</td>\n      <td>['arxiv:2103.00020', 'arxiv:1908.04913']</td>\n      <td>['clip', 'vision', 'has_space']</td>\n      <td>NaN</td>\n      <td>8593667</td>\n      <td>NaN</td>\n      <td>openai</td>\n      <td>2022</td>\n      <td>10</td>\n      <td>4</td>\n    </tr>\n    <tr>\n      <th>4</th>\n      <td>allenai/specter</td>\n      <td>True</td>\n      <td>2022-06-25T16:04:29.000Z</td>\n      <td>25</td>\n      <td>['feature-extraction']</td>\n      <td>multimodal</td>\n      <td>['pytorch', 'tf', 'jax', 'transformers']</td>\n      <td>['dataset:SciDocs']</td>\n      <td>['en']</td>\n      <td>['arxiv:2004.07180']</td>\n      <td>['bert', 'has_space']</td>\n      <td>['license:apache-2.0']</td>\n      <td>8004968</td>\n      <td>NaN</td>\n      <td>allenai</td>\n      <td>2022</td>\n      <td>6</td>\n      <td>25</td>\n    </tr>\n    <tr>\n      <th>...</th>\n      <td>...</td>\n      <td>...</td>\n      <td>...</td>\n      <td>...</td>\n      <td>...</td>\n      <td>...</td>\n      <td>...</td>\n      <td>...</td>\n      <td>...</td>\n      <td>...</td>\n      <td>...</td>\n      <td>...</td>\n      <td>...</td>\n      <td>...</td>\n      <td>...</td>\n      <td>...</td>\n      <td>...</td>\n      <td>...</td>\n    </tr>\n    <tr>\n      <th>89914</th>\n      <td>Ursabdop/kutkut</td>\n      <td>False</td>\n      <td>2022-11-20T18:05:15.000Z</td>\n      <td>0</td>\n      <td>NaN</td>\n      <td>NaN</td>\n      <td>NaN</td>\n      <td>NaN</td>\n      <td>NaN</td>\n      <td>NaN</td>\n      <td>NaN</td>\n      <td>NaN</td>\n      <td>0</td>\n      <td>NaN</td>\n      <td>Ursabdop</td>\n      <td>2022</td>\n      <td>11</td>\n      <td>20</td>\n    </tr>\n    <tr>\n      <th>89915</th>\n      <td>huggingtweets/paulcamuso-williamshatner</td>\n      <td>True</td>\n      <td>2022-11-20T18:21:00.000Z</td>\n      <td>0</td>\n      <td>['text-generation']</td>\n      <td>nlp</td>\n      <td>['pytorch', 'transformers']</td>\n      <td>NaN</td>\n      <td>['en']</td>\n      <td>NaN</td>\n      <td>['gpt2', 'huggingtweets']</td>\n      <td>NaN</td>\n      <td>0</td>\n      <td>NaN</td>\n      <td>huggingtweets</td>\n      <td>2022</td>\n      <td>11</td>\n      <td>20</td>\n    </tr>\n    <tr>\n      <th>89916</th>\n      <td>shizuuya/ork</td>\n      <td>False</td>\n      <td>2022-11-20T18:27:10.000Z</td>\n      <td>0</td>\n      <td>NaN</td>\n      <td>NaN</td>\n      <td>NaN</td>\n      <td>NaN</td>\n      <td>NaN</td>\n      <td>NaN</td>\n      <td>NaN</td>\n      <td>NaN</td>\n      <td>0</td>\n      <td>NaN</td>\n      <td>shizuuya</td>\n      <td>2022</td>\n      <td>11</td>\n      <td>20</td>\n    </tr>\n    <tr>\n      <th>89917</th>\n      <td>huggingtweets/paulcamuso</td>\n      <td>True</td>\n      <td>2022-11-20T18:29:34.000Z</td>\n      <td>0</td>\n      <td>['text-generation']</td>\n      <td>nlp</td>\n      <td>['pytorch', 'transformers']</td>\n      <td>NaN</td>\n      <td>['en']</td>\n      <td>NaN</td>\n      <td>['gpt2', 'huggingtweets']</td>\n      <td>NaN</td>\n      <td>3</td>\n      <td>NaN</td>\n      <td>huggingtweets</td>\n      <td>2022</td>\n      <td>11</td>\n      <td>20</td>\n    </tr>\n    <tr>\n      <th>89918</th>\n      <td>Elaine/m2m100_pruned_ms</td>\n      <td>False</td>\n      <td>2022-11-21T10:34:55.000Z</td>\n      <td>0</td>\n      <td>['text2text-generation']</td>\n      <td>nlp</td>\n      <td>['pytorch', 'transformers']</td>\n      <td>NaN</td>\n      <td>NaN</td>\n      <td>NaN</td>\n      <td>['m2m_100', 'autotrain_compatible']</td>\n      <td>NaN</td>\n      <td>2</td>\n      <td>NaN</td>\n      <td>Elaine</td>\n      <td>2022</td>\n      <td>11</td>\n      <td>21</td>\n    </tr>\n  </tbody>\n</table>\n<p>89919 rows × 18 columns</p>\n</div>"
     },
     "execution_count": 108,
     "metadata": {},
     "output_type": "execute_result"
    }
   ],
   "source": [
    "# Create new attributes from 'lastModified' field\n",
    "\n",
    "df['year'] = df['lastModified'].map(lambda x: int(str(x)[:4])).rename('year')\n",
    "df['month'] = df['lastModified'].map(lambda x: int(str(x)[5:7])).rename('month')\n",
    "df['day'] = df['lastModified'].map(lambda x: int(str(x)[8:10])).rename('day')\n",
    "df"
   ],
   "metadata": {
    "collapsed": false,
    "pycharm": {
     "name": "#%%\n"
    }
   }
  },
  {
   "cell_type": "code",
   "execution_count": 109,
   "outputs": [
    {
     "data": {
      "text/plain": "0                             fill-mask\n1                       text-generation\n2                             fill-mask\n3        zero-shot-image-classification\n4                    feature-extraction\n                      ...              \n89914                                 -\n89915                   text-generation\n89916                                 -\n89917                   text-generation\n89918              text2text-generation\nName: pipeline_tag, Length: 89919, dtype: object"
     },
     "execution_count": 109,
     "metadata": {},
     "output_type": "execute_result"
    }
   ],
   "source": [
    "# 'pipeline_tag' is a list but all rows contain only 1 element\n",
    "\n",
    "df['pipeline_tag'] = df['pipeline_tag'].map(lambda x: str(x)[2:-2]).replace('', '-')\n",
    "df['pipeline_tag']"
   ],
   "metadata": {
    "collapsed": false,
    "pycharm": {
     "name": "#%%\n"
    }
   }
  },
  {
   "cell_type": "code",
   "execution_count": 110,
   "outputs": [
    {
     "data": {
      "text/plain": "0               nlp\n1               nlp\n2               nlp\n3                cv\n4        multimodal\n            ...    \n89914             -\n89915           nlp\n89916             -\n89917           nlp\n89918           nlp\nName: subType, Length: 89919, dtype: object"
     },
     "execution_count": 110,
     "metadata": {},
     "output_type": "execute_result"
    }
   ],
   "source": [
    "# Replace null values in 'subType' by default string\n",
    "\n",
    "df['subType'] = df['subType'].replace(np.NaN, '-')\n",
    "df['subType']"
   ],
   "metadata": {
    "collapsed": false,
    "pycharm": {
     "name": "#%%\n"
    }
   }
  },
  {
   "cell_type": "code",
   "execution_count": 111,
   "outputs": [
    {
     "data": {
      "text/plain": "0                    -\n1                    -\n2                    -\n3               openai\n4              allenai\n             ...      \n89914         Ursabdop\n89915    huggingtweets\n89916         shizuuya\n89917    huggingtweets\n89918           Elaine\nName: author, Length: 89919, dtype: object"
     },
     "execution_count": 111,
     "metadata": {},
     "output_type": "execute_result"
    }
   ],
   "source": [
    "# Replace null values in 'author' by default string\n",
    "\n",
    "df['author'] = df['author'].replace(np.NaN, '-')\n",
    "df['author']"
   ],
   "metadata": {
    "collapsed": false,
    "pycharm": {
     "name": "#%%\n"
    }
   }
  },
  {
   "cell_type": "code",
   "execution_count": 112,
   "outputs": [
    {
     "data": {
      "text/plain": "                                            id  cardExists  \\\n0                            bert-base-uncased        True   \n1                                         gpt2        True   \n2                             xlm-roberta-base        True   \n3                openai/clip-vit-large-patch14        True   \n4                              allenai/specter        True   \n...                                        ...         ...   \n89914                          Ursabdop/kutkut       False   \n89915  huggingtweets/paulcamuso-williamshatner        True   \n89916                             shizuuya/ork       False   \n89917                 huggingtweets/paulcamuso        True   \n89918                  Elaine/m2m100_pruned_ms       False   \n\n                   lastModified  likes                    pipeline_tag  \\\n0      2022-11-16T15:15:39.000Z    337                       fill-mask   \n1      2022-11-18T18:19:30.000Z    309                 text-generation   \n2      2022-11-16T15:16:18.000Z    111                       fill-mask   \n3      2022-10-04T09:41:01.000Z     74  zero-shot-image-classification   \n4      2022-06-25T16:04:29.000Z     25              feature-extraction   \n...                         ...    ...                             ...   \n89914  2022-11-20T18:05:15.000Z      0                               -   \n89915  2022-11-20T18:21:00.000Z      0                 text-generation   \n89916  2022-11-20T18:27:10.000Z      0                               -   \n89917  2022-11-20T18:29:34.000Z      0                 text-generation   \n89918  2022-11-21T10:34:55.000Z      0            text2text-generation   \n\n          subType                                            library  \\\n0             nlp  [pytorch, tf, jax, rust, safetensors, transfor...   \n1             nlp  [pytorch, tf, jax, tflite, rust, safetensors, ...   \n2             nlp      [pytorch, tf, jax, safetensors, transformers]   \n3              cv                   [pytorch, tf, jax, transformers]   \n4      multimodal                   [pytorch, tf, jax, transformers]   \n...           ...                                                ...   \n89914           -                                                 []   \n89915         nlp                            [pytorch, transformers]   \n89916           -                                                 []   \n89917         nlp                            [pytorch, transformers]   \n89918         nlp                            [pytorch, transformers]   \n\n                       dataset  \\\n0      [bookcorpus, wikipedia]   \n1                           []   \n2                           []   \n3                           []   \n4                    [SciDocs]   \n...                        ...   \n89914                       []   \n89915                       []   \n89916                       []   \n89917                       []   \n89918                       []   \n\n                                                language  \\\n0                                                   [en]   \n1                                                   [en]   \n2      [multilingual, af, am, ar, as, az, be, bg, bn,...   \n3                                                     []   \n4                                                   [en]   \n...                                                  ...   \n89914                                                 []   \n89915                                               [en]   \n89916                                                 []   \n89917                                               [en]   \n89918                                                 []   \n\n                          arxiv  \\\n0                  [1810.04805]   \n1                            []   \n2                  [1911.02116]   \n3      [2103.00020, 1908.04913]   \n4                  [2004.07180]   \n...                         ...   \n89914                        []   \n89915                        []   \n89916                        []   \n89917                        []   \n89918                        []   \n\n                                                   other       license  \\\n0        [bert, exbert, autotrain_compatible, has_space]  [apache-2.0]   \n1                              [gpt2, exbert, has_space]         [mit]   \n2      [xlm-roberta, exbert, autotrain_compatible, ha...         [mit]   \n3                              [clip, vision, has_space]            []   \n4                                      [bert, has_space]  [apache-2.0]   \n...                                                  ...           ...   \n89914                                                 []            []   \n89915                              [gpt2, huggingtweets]            []   \n89916                                                 []            []   \n89917                              [gpt2, huggingtweets]            []   \n89918                    [m2m_100, autotrain_compatible]            []   \n\n       downloads_last_month                 doi         author  year  month  \\\n0                  24813000                  []              -  2022     11   \n1                  20506403  [10.57967/hf/0039]              -  2022     11   \n2                   9501981                  []              -  2022     11   \n3                   8593667                  []         openai  2022     10   \n4                   8004968                  []        allenai  2022      6   \n...                     ...                 ...            ...   ...    ...   \n89914                     0                  []       Ursabdop  2022     11   \n89915                     0                  []  huggingtweets  2022     11   \n89916                     0                  []       shizuuya  2022     11   \n89917                     3                  []  huggingtweets  2022     11   \n89918                     2                  []         Elaine  2022     11   \n\n       day  \n0       16  \n1       18  \n2       16  \n3        4  \n4       25  \n...    ...  \n89914   20  \n89915   20  \n89916   20  \n89917   20  \n89918   21  \n\n[89919 rows x 18 columns]",
      "text/html": "<div>\n<style scoped>\n    .dataframe tbody tr th:only-of-type {\n        vertical-align: middle;\n    }\n\n    .dataframe tbody tr th {\n        vertical-align: top;\n    }\n\n    .dataframe thead th {\n        text-align: right;\n    }\n</style>\n<table border=\"1\" class=\"dataframe\">\n  <thead>\n    <tr style=\"text-align: right;\">\n      <th></th>\n      <th>id</th>\n      <th>cardExists</th>\n      <th>lastModified</th>\n      <th>likes</th>\n      <th>pipeline_tag</th>\n      <th>subType</th>\n      <th>library</th>\n      <th>dataset</th>\n      <th>language</th>\n      <th>arxiv</th>\n      <th>other</th>\n      <th>license</th>\n      <th>downloads_last_month</th>\n      <th>doi</th>\n      <th>author</th>\n      <th>year</th>\n      <th>month</th>\n      <th>day</th>\n    </tr>\n  </thead>\n  <tbody>\n    <tr>\n      <th>0</th>\n      <td>bert-base-uncased</td>\n      <td>True</td>\n      <td>2022-11-16T15:15:39.000Z</td>\n      <td>337</td>\n      <td>fill-mask</td>\n      <td>nlp</td>\n      <td>[pytorch, tf, jax, rust, safetensors, transfor...</td>\n      <td>[bookcorpus, wikipedia]</td>\n      <td>[en]</td>\n      <td>[1810.04805]</td>\n      <td>[bert, exbert, autotrain_compatible, has_space]</td>\n      <td>[apache-2.0]</td>\n      <td>24813000</td>\n      <td>[]</td>\n      <td>-</td>\n      <td>2022</td>\n      <td>11</td>\n      <td>16</td>\n    </tr>\n    <tr>\n      <th>1</th>\n      <td>gpt2</td>\n      <td>True</td>\n      <td>2022-11-18T18:19:30.000Z</td>\n      <td>309</td>\n      <td>text-generation</td>\n      <td>nlp</td>\n      <td>[pytorch, tf, jax, tflite, rust, safetensors, ...</td>\n      <td>[]</td>\n      <td>[en]</td>\n      <td>[]</td>\n      <td>[gpt2, exbert, has_space]</td>\n      <td>[mit]</td>\n      <td>20506403</td>\n      <td>[10.57967/hf/0039]</td>\n      <td>-</td>\n      <td>2022</td>\n      <td>11</td>\n      <td>18</td>\n    </tr>\n    <tr>\n      <th>2</th>\n      <td>xlm-roberta-base</td>\n      <td>True</td>\n      <td>2022-11-16T15:16:18.000Z</td>\n      <td>111</td>\n      <td>fill-mask</td>\n      <td>nlp</td>\n      <td>[pytorch, tf, jax, safetensors, transformers]</td>\n      <td>[]</td>\n      <td>[multilingual, af, am, ar, as, az, be, bg, bn,...</td>\n      <td>[1911.02116]</td>\n      <td>[xlm-roberta, exbert, autotrain_compatible, ha...</td>\n      <td>[mit]</td>\n      <td>9501981</td>\n      <td>[]</td>\n      <td>-</td>\n      <td>2022</td>\n      <td>11</td>\n      <td>16</td>\n    </tr>\n    <tr>\n      <th>3</th>\n      <td>openai/clip-vit-large-patch14</td>\n      <td>True</td>\n      <td>2022-10-04T09:41:01.000Z</td>\n      <td>74</td>\n      <td>zero-shot-image-classification</td>\n      <td>cv</td>\n      <td>[pytorch, tf, jax, transformers]</td>\n      <td>[]</td>\n      <td>[]</td>\n      <td>[2103.00020, 1908.04913]</td>\n      <td>[clip, vision, has_space]</td>\n      <td>[]</td>\n      <td>8593667</td>\n      <td>[]</td>\n      <td>openai</td>\n      <td>2022</td>\n      <td>10</td>\n      <td>4</td>\n    </tr>\n    <tr>\n      <th>4</th>\n      <td>allenai/specter</td>\n      <td>True</td>\n      <td>2022-06-25T16:04:29.000Z</td>\n      <td>25</td>\n      <td>feature-extraction</td>\n      <td>multimodal</td>\n      <td>[pytorch, tf, jax, transformers]</td>\n      <td>[SciDocs]</td>\n      <td>[en]</td>\n      <td>[2004.07180]</td>\n      <td>[bert, has_space]</td>\n      <td>[apache-2.0]</td>\n      <td>8004968</td>\n      <td>[]</td>\n      <td>allenai</td>\n      <td>2022</td>\n      <td>6</td>\n      <td>25</td>\n    </tr>\n    <tr>\n      <th>...</th>\n      <td>...</td>\n      <td>...</td>\n      <td>...</td>\n      <td>...</td>\n      <td>...</td>\n      <td>...</td>\n      <td>...</td>\n      <td>...</td>\n      <td>...</td>\n      <td>...</td>\n      <td>...</td>\n      <td>...</td>\n      <td>...</td>\n      <td>...</td>\n      <td>...</td>\n      <td>...</td>\n      <td>...</td>\n      <td>...</td>\n    </tr>\n    <tr>\n      <th>89914</th>\n      <td>Ursabdop/kutkut</td>\n      <td>False</td>\n      <td>2022-11-20T18:05:15.000Z</td>\n      <td>0</td>\n      <td>-</td>\n      <td>-</td>\n      <td>[]</td>\n      <td>[]</td>\n      <td>[]</td>\n      <td>[]</td>\n      <td>[]</td>\n      <td>[]</td>\n      <td>0</td>\n      <td>[]</td>\n      <td>Ursabdop</td>\n      <td>2022</td>\n      <td>11</td>\n      <td>20</td>\n    </tr>\n    <tr>\n      <th>89915</th>\n      <td>huggingtweets/paulcamuso-williamshatner</td>\n      <td>True</td>\n      <td>2022-11-20T18:21:00.000Z</td>\n      <td>0</td>\n      <td>text-generation</td>\n      <td>nlp</td>\n      <td>[pytorch, transformers]</td>\n      <td>[]</td>\n      <td>[en]</td>\n      <td>[]</td>\n      <td>[gpt2, huggingtweets]</td>\n      <td>[]</td>\n      <td>0</td>\n      <td>[]</td>\n      <td>huggingtweets</td>\n      <td>2022</td>\n      <td>11</td>\n      <td>20</td>\n    </tr>\n    <tr>\n      <th>89916</th>\n      <td>shizuuya/ork</td>\n      <td>False</td>\n      <td>2022-11-20T18:27:10.000Z</td>\n      <td>0</td>\n      <td>-</td>\n      <td>-</td>\n      <td>[]</td>\n      <td>[]</td>\n      <td>[]</td>\n      <td>[]</td>\n      <td>[]</td>\n      <td>[]</td>\n      <td>0</td>\n      <td>[]</td>\n      <td>shizuuya</td>\n      <td>2022</td>\n      <td>11</td>\n      <td>20</td>\n    </tr>\n    <tr>\n      <th>89917</th>\n      <td>huggingtweets/paulcamuso</td>\n      <td>True</td>\n      <td>2022-11-20T18:29:34.000Z</td>\n      <td>0</td>\n      <td>text-generation</td>\n      <td>nlp</td>\n      <td>[pytorch, transformers]</td>\n      <td>[]</td>\n      <td>[en]</td>\n      <td>[]</td>\n      <td>[gpt2, huggingtweets]</td>\n      <td>[]</td>\n      <td>3</td>\n      <td>[]</td>\n      <td>huggingtweets</td>\n      <td>2022</td>\n      <td>11</td>\n      <td>20</td>\n    </tr>\n    <tr>\n      <th>89918</th>\n      <td>Elaine/m2m100_pruned_ms</td>\n      <td>False</td>\n      <td>2022-11-21T10:34:55.000Z</td>\n      <td>0</td>\n      <td>text2text-generation</td>\n      <td>nlp</td>\n      <td>[pytorch, transformers]</td>\n      <td>[]</td>\n      <td>[]</td>\n      <td>[]</td>\n      <td>[m2m_100, autotrain_compatible]</td>\n      <td>[]</td>\n      <td>2</td>\n      <td>[]</td>\n      <td>Elaine</td>\n      <td>2022</td>\n      <td>11</td>\n      <td>21</td>\n    </tr>\n  </tbody>\n</table>\n<p>89919 rows × 18 columns</p>\n</div>"
     },
     "execution_count": 112,
     "metadata": {},
     "output_type": "execute_result"
    }
   ],
   "source": [
    "# Convert these attribute values to lists of strings\n",
    "\n",
    "df['library'] = df['library'].replace(np.NaN, '').map(lambda x: str(x)[1:-1].replace('\\'', '').split(', ') if x != '' else [])\n",
    "df['language'] = df['language'].replace(np.NaN, '').map(lambda x: str(x)[1:-1].replace('\\'', '').split(', ') if x != '' else [])\n",
    "df['other'] = df['other'].replace(np.NaN, '').map(lambda x: str(x)[1:-1].replace('\\'', '').split(', ') if x != '' else [])\n",
    "df['dataset'] = df['dataset'].replace(np.NaN, '').map(lambda x: [e.replace('dataset:', '') for e in (str(x)[1:-1].replace('\\'', '').split(', ') if x != '' else [])])\n",
    "df['arxiv'] = df['arxiv'].replace(np.NaN, '').map(lambda x: [e.replace('arxiv:', '') for e in (str(x)[1:-1].replace('\\'', '').split(', ') if x != '' else [])])\n",
    "df['license'] = df['license'].replace(np.NaN, '').map(lambda x: [e.replace('license:', '') for e in (str(x)[1:-1].replace('\\'', '').split(', ') if x != '' else [])])\n",
    "df['doi'] = df['doi'].replace(np.NaN, '').map(lambda x: [e.replace('doi:', '') for e in (str(x)[1:-1].replace('\\'', '').split(', ') if x != '' else [])])\n",
    "df"
   ],
   "metadata": {
    "collapsed": false,
    "pycharm": {
     "name": "#%%\n"
    }
   }
  },
  {
   "cell_type": "code",
   "execution_count": 113,
   "outputs": [],
   "source": [
    "# HERE DELETE USELESS ATTRIBUTES, IF ANY"
   ],
   "metadata": {
    "collapsed": false,
    "pycharm": {
     "name": "#%%\n"
    }
   }
  },
  {
   "cell_type": "code",
   "execution_count": 114,
   "outputs": [],
   "source": [
    "# VISUALIZATION TO DISCOVER OUTLIERS"
   ],
   "metadata": {
    "collapsed": false,
    "pycharm": {
     "name": "#%%\n"
    }
   }
  },
  {
   "cell_type": "code",
   "execution_count": 114,
   "outputs": [],
   "source": [],
   "metadata": {
    "collapsed": false,
    "pycharm": {
     "name": "#%%\n"
    }
   }
  }
 ],
 "metadata": {
  "kernelspec": {
   "display_name": "Python 3",
   "language": "python",
   "name": "python3"
  },
  "language_info": {
   "codemirror_mode": {
    "name": "ipython",
    "version": 2
   },
   "file_extension": ".py",
   "mimetype": "text/x-python",
   "name": "python",
   "nbconvert_exporter": "python",
   "pygments_lexer": "ipython2",
   "version": "2.7.6"
  }
 },
 "nbformat": 4,
 "nbformat_minor": 0
}