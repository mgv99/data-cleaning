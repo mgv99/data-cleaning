{
 "cells": [
  {
   "cell_type": "markdown",
   "metadata": {
    "collapsed": true,
    "pycharm": {
     "name": "#%% md\n"
    }
   },
   "source": [
    "Contenido repositorio:\n",
    "\n",
    "- readme\n",
    "- pdf con las preguntas\n",
    "- carpeta con el codigo\n",
    "- csv original\n",
    "- csv procesado\n",
    "- requirements.txt"
   ]
  },
  {
   "cell_type": "code",
   "execution_count": 2,
   "outputs": [],
   "source": [
    "# Importing libraries\n",
    "\n",
    "import pandas as pd"
   ],
   "metadata": {
    "collapsed": false,
    "pycharm": {
     "name": "#%%\n"
    }
   }
  },
  {
   "cell_type": "code",
   "execution_count": 3,
   "outputs": [
    {
     "name": "stderr",
     "output_type": "stream",
     "text": [
      "/var/folders/9g/nhhs7njd4vb6nf0cblb1_bwm0000gn/T/ipykernel_31215/1014209278.py:1: DtypeWarning: Columns (13) have mixed types. Specify dtype option on import or set low_memory=False.\n",
      "  df = pd.read_csv('../dataset_original.csv')\n"
     ]
    },
    {
     "data": {
      "text/plain": "                                            id cardExists  \\\n0                            bert-base-uncased       True   \n1                                         gpt2       True   \n2                             xlm-roberta-base       True   \n3                openai/clip-vit-large-patch14       True   \n4                              allenai/specter       True   \n...                                        ...        ...   \n89914                          Ursabdop/kutkut        NaN   \n89915  huggingtweets/paulcamuso-williamshatner       True   \n89916                             shizuuya/ork        NaN   \n89917                 huggingtweets/paulcamuso       True   \n89918                  Elaine/m2m100_pruned_ms        NaN   \n\n                   lastModified  likes                        pipeline_tag  \\\n0      2022-11-16T15:15:39.000Z    337                       ['fill-mask']   \n1      2022-11-18T18:19:30.000Z    309                 ['text-generation']   \n2      2022-11-16T15:16:18.000Z    111                       ['fill-mask']   \n3      2022-10-04T09:41:01.000Z     74  ['zero-shot-image-classification']   \n4      2022-06-25T16:04:29.000Z     25              ['feature-extraction']   \n...                         ...    ...                                 ...   \n89914  2022-11-20T18:05:15.000Z      0                                 NaN   \n89915  2022-11-20T18:21:00.000Z      0                 ['text-generation']   \n89916  2022-11-20T18:27:10.000Z      0                                 NaN   \n89917  2022-11-20T18:29:34.000Z      0                 ['text-generation']   \n89918  2022-11-21T10:34:55.000Z      0            ['text2text-generation']   \n\n          subType                                            library  \\\n0             nlp  ['pytorch', 'tf', 'jax', 'rust', 'safetensors'...   \n1             nlp  ['pytorch', 'tf', 'jax', 'tflite', 'rust', 'sa...   \n2             nlp  ['pytorch', 'tf', 'jax', 'safetensors', 'trans...   \n3              cv           ['pytorch', 'tf', 'jax', 'transformers']   \n4      multimodal           ['pytorch', 'tf', 'jax', 'transformers']   \n...           ...                                                ...   \n89914         NaN                                                NaN   \n89915         nlp                        ['pytorch', 'transformers']   \n89916         NaN                                                NaN   \n89917         nlp                        ['pytorch', 'transformers']   \n89918         nlp                        ['pytorch', 'transformers']   \n\n                                           dataset  \\\n0      ['dataset:bookcorpus', 'dataset:wikipedia']   \n1                                              NaN   \n2                                              NaN   \n3                                              NaN   \n4                              ['dataset:SciDocs']   \n...                                            ...   \n89914                                          NaN   \n89915                                          NaN   \n89916                                          NaN   \n89917                                          NaN   \n89918                                          NaN   \n\n                                                language  \\\n0                                                 ['en']   \n1                                                 ['en']   \n2      ['multilingual', 'af', 'am', 'ar', 'as', 'az',...   \n3                                                    NaN   \n4                                                 ['en']   \n...                                                  ...   \n89914                                                NaN   \n89915                                             ['en']   \n89916                                                NaN   \n89917                                             ['en']   \n89918                                                NaN   \n\n                                          arxiv  \\\n0                          ['arxiv:1810.04805']   \n1                                           NaN   \n2                          ['arxiv:1911.02116']   \n3      ['arxiv:2103.00020', 'arxiv:1908.04913']   \n4                          ['arxiv:2004.07180']   \n...                                         ...   \n89914                                       NaN   \n89915                                       NaN   \n89916                                       NaN   \n89917                                       NaN   \n89918                                       NaN   \n\n                                                   other  \\\n0      ['bert', 'exbert', 'autotrain_compatible', 'ha...   \n1                        ['gpt2', 'exbert', 'has_space']   \n2      ['xlm-roberta', 'exbert', 'autotrain_compatibl...   \n3                        ['clip', 'vision', 'has_space']   \n4                                  ['bert', 'has_space']   \n...                                                  ...   \n89914                                                NaN   \n89915                          ['gpt2', 'huggingtweets']   \n89916                                                NaN   \n89917                          ['gpt2', 'huggingtweets']   \n89918                ['m2m_100', 'autotrain_compatible']   \n\n                      license  downloads_last_month                       doi  \\\n0      ['license:apache-2.0']              24813000                       NaN   \n1             ['license:mit']              20506403  ['doi:10.57967/hf/0039']   \n2             ['license:mit']               9501981                       NaN   \n3                         NaN               8593667                       NaN   \n4      ['license:apache-2.0']               8004968                       NaN   \n...                       ...                   ...                       ...   \n89914                     NaN                     0                       NaN   \n89915                     NaN                     0                       NaN   \n89916                     NaN                     0                       NaN   \n89917                     NaN                     3                       NaN   \n89918                     NaN                     2                       NaN   \n\n              author  \n0                NaN  \n1                NaN  \n2                NaN  \n3             openai  \n4            allenai  \n...              ...  \n89914       Ursabdop  \n89915  huggingtweets  \n89916       shizuuya  \n89917  huggingtweets  \n89918         Elaine  \n\n[89919 rows x 15 columns]",
      "text/html": "<div>\n<style scoped>\n    .dataframe tbody tr th:only-of-type {\n        vertical-align: middle;\n    }\n\n    .dataframe tbody tr th {\n        vertical-align: top;\n    }\n\n    .dataframe thead th {\n        text-align: right;\n    }\n</style>\n<table border=\"1\" class=\"dataframe\">\n  <thead>\n    <tr style=\"text-align: right;\">\n      <th></th>\n      <th>id</th>\n      <th>cardExists</th>\n      <th>lastModified</th>\n      <th>likes</th>\n      <th>pipeline_tag</th>\n      <th>subType</th>\n      <th>library</th>\n      <th>dataset</th>\n      <th>language</th>\n      <th>arxiv</th>\n      <th>other</th>\n      <th>license</th>\n      <th>downloads_last_month</th>\n      <th>doi</th>\n      <th>author</th>\n    </tr>\n  </thead>\n  <tbody>\n    <tr>\n      <th>0</th>\n      <td>bert-base-uncased</td>\n      <td>True</td>\n      <td>2022-11-16T15:15:39.000Z</td>\n      <td>337</td>\n      <td>['fill-mask']</td>\n      <td>nlp</td>\n      <td>['pytorch', 'tf', 'jax', 'rust', 'safetensors'...</td>\n      <td>['dataset:bookcorpus', 'dataset:wikipedia']</td>\n      <td>['en']</td>\n      <td>['arxiv:1810.04805']</td>\n      <td>['bert', 'exbert', 'autotrain_compatible', 'ha...</td>\n      <td>['license:apache-2.0']</td>\n      <td>24813000</td>\n      <td>NaN</td>\n      <td>NaN</td>\n    </tr>\n    <tr>\n      <th>1</th>\n      <td>gpt2</td>\n      <td>True</td>\n      <td>2022-11-18T18:19:30.000Z</td>\n      <td>309</td>\n      <td>['text-generation']</td>\n      <td>nlp</td>\n      <td>['pytorch', 'tf', 'jax', 'tflite', 'rust', 'sa...</td>\n      <td>NaN</td>\n      <td>['en']</td>\n      <td>NaN</td>\n      <td>['gpt2', 'exbert', 'has_space']</td>\n      <td>['license:mit']</td>\n      <td>20506403</td>\n      <td>['doi:10.57967/hf/0039']</td>\n      <td>NaN</td>\n    </tr>\n    <tr>\n      <th>2</th>\n      <td>xlm-roberta-base</td>\n      <td>True</td>\n      <td>2022-11-16T15:16:18.000Z</td>\n      <td>111</td>\n      <td>['fill-mask']</td>\n      <td>nlp</td>\n      <td>['pytorch', 'tf', 'jax', 'safetensors', 'trans...</td>\n      <td>NaN</td>\n      <td>['multilingual', 'af', 'am', 'ar', 'as', 'az',...</td>\n      <td>['arxiv:1911.02116']</td>\n      <td>['xlm-roberta', 'exbert', 'autotrain_compatibl...</td>\n      <td>['license:mit']</td>\n      <td>9501981</td>\n      <td>NaN</td>\n      <td>NaN</td>\n    </tr>\n    <tr>\n      <th>3</th>\n      <td>openai/clip-vit-large-patch14</td>\n      <td>True</td>\n      <td>2022-10-04T09:41:01.000Z</td>\n      <td>74</td>\n      <td>['zero-shot-image-classification']</td>\n      <td>cv</td>\n      <td>['pytorch', 'tf', 'jax', 'transformers']</td>\n      <td>NaN</td>\n      <td>NaN</td>\n      <td>['arxiv:2103.00020', 'arxiv:1908.04913']</td>\n      <td>['clip', 'vision', 'has_space']</td>\n      <td>NaN</td>\n      <td>8593667</td>\n      <td>NaN</td>\n      <td>openai</td>\n    </tr>\n    <tr>\n      <th>4</th>\n      <td>allenai/specter</td>\n      <td>True</td>\n      <td>2022-06-25T16:04:29.000Z</td>\n      <td>25</td>\n      <td>['feature-extraction']</td>\n      <td>multimodal</td>\n      <td>['pytorch', 'tf', 'jax', 'transformers']</td>\n      <td>['dataset:SciDocs']</td>\n      <td>['en']</td>\n      <td>['arxiv:2004.07180']</td>\n      <td>['bert', 'has_space']</td>\n      <td>['license:apache-2.0']</td>\n      <td>8004968</td>\n      <td>NaN</td>\n      <td>allenai</td>\n    </tr>\n    <tr>\n      <th>...</th>\n      <td>...</td>\n      <td>...</td>\n      <td>...</td>\n      <td>...</td>\n      <td>...</td>\n      <td>...</td>\n      <td>...</td>\n      <td>...</td>\n      <td>...</td>\n      <td>...</td>\n      <td>...</td>\n      <td>...</td>\n      <td>...</td>\n      <td>...</td>\n      <td>...</td>\n    </tr>\n    <tr>\n      <th>89914</th>\n      <td>Ursabdop/kutkut</td>\n      <td>NaN</td>\n      <td>2022-11-20T18:05:15.000Z</td>\n      <td>0</td>\n      <td>NaN</td>\n      <td>NaN</td>\n      <td>NaN</td>\n      <td>NaN</td>\n      <td>NaN</td>\n      <td>NaN</td>\n      <td>NaN</td>\n      <td>NaN</td>\n      <td>0</td>\n      <td>NaN</td>\n      <td>Ursabdop</td>\n    </tr>\n    <tr>\n      <th>89915</th>\n      <td>huggingtweets/paulcamuso-williamshatner</td>\n      <td>True</td>\n      <td>2022-11-20T18:21:00.000Z</td>\n      <td>0</td>\n      <td>['text-generation']</td>\n      <td>nlp</td>\n      <td>['pytorch', 'transformers']</td>\n      <td>NaN</td>\n      <td>['en']</td>\n      <td>NaN</td>\n      <td>['gpt2', 'huggingtweets']</td>\n      <td>NaN</td>\n      <td>0</td>\n      <td>NaN</td>\n      <td>huggingtweets</td>\n    </tr>\n    <tr>\n      <th>89916</th>\n      <td>shizuuya/ork</td>\n      <td>NaN</td>\n      <td>2022-11-20T18:27:10.000Z</td>\n      <td>0</td>\n      <td>NaN</td>\n      <td>NaN</td>\n      <td>NaN</td>\n      <td>NaN</td>\n      <td>NaN</td>\n      <td>NaN</td>\n      <td>NaN</td>\n      <td>NaN</td>\n      <td>0</td>\n      <td>NaN</td>\n      <td>shizuuya</td>\n    </tr>\n    <tr>\n      <th>89917</th>\n      <td>huggingtweets/paulcamuso</td>\n      <td>True</td>\n      <td>2022-11-20T18:29:34.000Z</td>\n      <td>0</td>\n      <td>['text-generation']</td>\n      <td>nlp</td>\n      <td>['pytorch', 'transformers']</td>\n      <td>NaN</td>\n      <td>['en']</td>\n      <td>NaN</td>\n      <td>['gpt2', 'huggingtweets']</td>\n      <td>NaN</td>\n      <td>3</td>\n      <td>NaN</td>\n      <td>huggingtweets</td>\n    </tr>\n    <tr>\n      <th>89918</th>\n      <td>Elaine/m2m100_pruned_ms</td>\n      <td>NaN</td>\n      <td>2022-11-21T10:34:55.000Z</td>\n      <td>0</td>\n      <td>['text2text-generation']</td>\n      <td>nlp</td>\n      <td>['pytorch', 'transformers']</td>\n      <td>NaN</td>\n      <td>NaN</td>\n      <td>NaN</td>\n      <td>['m2m_100', 'autotrain_compatible']</td>\n      <td>NaN</td>\n      <td>2</td>\n      <td>NaN</td>\n      <td>Elaine</td>\n    </tr>\n  </tbody>\n</table>\n<p>89919 rows × 15 columns</p>\n</div>"
     },
     "execution_count": 3,
     "metadata": {},
     "output_type": "execute_result"
    }
   ],
   "source": [
    "df = pd.read_csv('../dataset_original.csv')\n",
    "df"
   ],
   "metadata": {
    "collapsed": false,
    "pycharm": {
     "name": "#%%\n"
    }
   }
  },
  {
   "cell_type": "markdown",
   "source": [
    "## Ideas de preprocesamiento\n",
    "\n",
    "- lastModified: crear 3 nuevos campos: year, month, day"
   ],
   "metadata": {
    "collapsed": false
   }
  },
  {
   "cell_type": "code",
   "execution_count": null,
   "outputs": [],
   "source": [],
   "metadata": {
    "collapsed": false,
    "pycharm": {
     "name": "#%%\n"
    }
   }
  },
  {
   "cell_type": "code",
   "execution_count": null,
   "outputs": [],
   "source": [],
   "metadata": {
    "collapsed": false,
    "pycharm": {
     "name": "#%%\n"
    }
   }
  }
 ],
 "metadata": {
  "kernelspec": {
   "display_name": "Python 3",
   "language": "python",
   "name": "python3"
  },
  "language_info": {
   "codemirror_mode": {
    "name": "ipython",
    "version": 2
   },
   "file_extension": ".py",
   "mimetype": "text/x-python",
   "name": "python",
   "nbconvert_exporter": "python",
   "pygments_lexer": "ipython2",
   "version": "2.7.6"
  }
 },
 "nbformat": 4,
 "nbformat_minor": 0
}